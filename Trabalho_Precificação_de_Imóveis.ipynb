{
  "nbformat": 4,
  "nbformat_minor": 0,
  "metadata": {
    "colab": {
      "name": "Trabalho - Precificação de Imóveis.ipynb",
      "version": "0.3.2",
      "provenance": [],
      "collapsed_sections": [
        "5XGTeRs4CFOo"
      ],
      "include_colab_link": true
    },
    "kernelspec": {
      "name": "python3",
      "display_name": "Python 3"
    }
  },
  "cells": [
    {
      "cell_type": "markdown",
      "metadata": {
        "id": "view-in-github",
        "colab_type": "text"
      },
      "source": [
        "<a href=\"https://colab.research.google.com/github/kzar1n/datascience/blob/master/Trabalho_Precifica%C3%A7%C3%A3o_de_Im%C3%B3veis.ipynb\" target=\"_parent\"><img src=\"https://colab.research.google.com/assets/colab-badge.svg\" alt=\"Open In Colab\"/></a>"
      ]
    },
    {
      "metadata": {
        "id": "5XGTeRs4CFOo",
        "colab_type": "text"
      },
      "cell_type": "markdown",
      "source": [
        "## **Importando as bibliotecas**"
      ]
    },
    {
      "metadata": {
        "id": "pS3d0CR7vrEO",
        "colab_type": "code",
        "outputId": "01f15aca-500c-49b5-b443-148fbcd9dc7c",
        "colab": {
          "base_uri": "https://localhost:8080/",
          "height": 315
        }
      },
      "cell_type": "code",
      "source": [
        "!pip install geopandas\n",
        "!pip install geopy"
      ],
      "execution_count": 0,
      "outputs": [
        {
          "output_type": "stream",
          "text": [
            "Requirement already satisfied: geopandas in /usr/local/lib/python3.6/dist-packages (0.4.0)\n",
            "Requirement already satisfied: pandas in /usr/local/lib/python3.6/dist-packages (from geopandas) (0.22.0)\n",
            "Requirement already satisfied: shapely in /usr/local/lib/python3.6/dist-packages (from geopandas) (1.6.4.post2)\n",
            "Requirement already satisfied: pyproj in /usr/local/lib/python3.6/dist-packages (from geopandas) (1.9.6)\n",
            "Requirement already satisfied: fiona in /usr/local/lib/python3.6/dist-packages (from geopandas) (1.8.4)\n",
            "Requirement already satisfied: python-dateutil>=2 in /usr/local/lib/python3.6/dist-packages (from pandas->geopandas) (2.5.3)\n",
            "Requirement already satisfied: pytz>=2011k in /usr/local/lib/python3.6/dist-packages (from pandas->geopandas) (2018.9)\n",
            "Requirement already satisfied: numpy>=1.9.0 in /usr/local/lib/python3.6/dist-packages (from pandas->geopandas) (1.14.6)\n",
            "Requirement already satisfied: attrs>=17 in /usr/local/lib/python3.6/dist-packages (from fiona->geopandas) (18.2.0)\n",
            "Requirement already satisfied: click-plugins>=1.0 in /usr/local/lib/python3.6/dist-packages (from fiona->geopandas) (1.0.4)\n",
            "Requirement already satisfied: cligj>=0.5 in /usr/local/lib/python3.6/dist-packages (from fiona->geopandas) (0.5.0)\n",
            "Requirement already satisfied: munch in /usr/local/lib/python3.6/dist-packages (from fiona->geopandas) (2.3.2)\n",
            "Requirement already satisfied: click<8,>=4.0 in /usr/local/lib/python3.6/dist-packages (from fiona->geopandas) (7.0)\n",
            "Requirement already satisfied: six>=1.7 in /usr/local/lib/python3.6/dist-packages (from fiona->geopandas) (1.11.0)\n",
            "Requirement already satisfied: geopy in /usr/local/lib/python3.6/dist-packages (1.17.0)\n",
            "Requirement already satisfied: geographiclib<2,>=1.49 in /usr/local/lib/python3.6/dist-packages (from geopy) (1.49)\n"
          ],
          "name": "stdout"
        }
      ]
    },
    {
      "metadata": {
        "id": "j-MsZcflfv4h",
        "colab_type": "code",
        "colab": {}
      },
      "cell_type": "code",
      "source": [
        "import pandas as pd\n",
        "import geopandas as gpd\n",
        "import matplotlib.pyplot as plt\n",
        "%matplotlib inline"
      ],
      "execution_count": 0,
      "outputs": []
    },
    {
      "metadata": {
        "id": "Bbd8ZqcICNCA",
        "colab_type": "text"
      },
      "cell_type": "markdown",
      "source": [
        "## Importando os arquivos"
      ]
    },
    {
      "metadata": {
        "id": "L-t9Neck556f",
        "colab_type": "code",
        "colab": {}
      },
      "cell_type": "code",
      "source": [
        "# arquivo = 'PesquisaMercadoCompleta_2008.xlsx'\n",
        "# arquivo = 'https://github.com/kzar1n/datascience/blob/master/PesquisaMercadoCompleta_2008.xlsx?raw=true'\n",
        "arquivo = 'https://bit.ly/2T5vklu'\n",
        "PesquisaMercadoCompleta_2008 = pd.read_excel(arquivo)"
      ],
      "execution_count": 0,
      "outputs": []
    },
    {
      "metadata": {
        "id": "WwlJ9L4CpVOw",
        "colab_type": "code",
        "colab": {}
      },
      "cell_type": "code",
      "source": [
        "# arquivo = 'PesquisaMercadoCompleta_2008_2012.xlsx'\n",
        "# arquivo = 'https://github.com/kzar1n/datascience/blob/master/PesquisaMercadoCompleta_2008_2012.xlsx?raw=true'\n",
        "arquivo = 'https://bit.ly/2NyrNWG'\n",
        "PesquisaMercadoCompleta_2008_2012 = pd.read_excel(arquivo)"
      ],
      "execution_count": 0,
      "outputs": []
    },
    {
      "metadata": {
        "id": "uAB3FF6wpP4f",
        "colab_type": "code",
        "colab": {}
      },
      "cell_type": "code",
      "source": [
        "# arquivo = 'PesquisaMercadoCompleta_2013_2017.xlsx'\n",
        "# arquivo = 'https://github.com/kzar1n/datascience/blob/master/PesquisaMercadoCompleta_2013_2017.xlsx?raw=true'\n",
        "arquivo = 'https://bit.ly/2EEd0XN'\n",
        "PesquisaMercadoCompleta_2013_2017 =pd.read_excel(arquivo)"
      ],
      "execution_count": 0,
      "outputs": []
    },
    {
      "metadata": {
        "id": "M8FqfOVbgI5y",
        "colab_type": "code",
        "colab": {}
      },
      "cell_type": "code",
      "source": [
        "# arquivo = 'PesquisaMercadoCompleta_2018_2019.xlsx'\n",
        "#arquivo = 'https://github.com/kzar1n/datascience/blob/master/PesquisaMercadoCompleta_2018_2019.xlsx?raw=true'\n",
        "arquivo = 'https://bit.ly/2tK6xnQ'\n",
        "PesquisaMercadoCompleta_2018_2019 = pd.read_excel(arquivo)"
      ],
      "execution_count": 0,
      "outputs": []
    },
    {
      "metadata": {
        "id": "GXQHkmaxCTRX",
        "colab_type": "text"
      },
      "cell_type": "markdown",
      "source": [
        "## Preparando dataset"
      ]
    },
    {
      "metadata": {
        "id": "C6vNygUPe8ih",
        "colab_type": "text"
      },
      "cell_type": "markdown",
      "source": [
        "Concatenando bases\n",
        "\n",
        "---\n",
        "\n"
      ]
    },
    {
      "metadata": {
        "id": "ir6cmWwGljou",
        "colab_type": "code",
        "colab": {}
      },
      "cell_type": "code",
      "source": [
        "data = pd.concat([PesquisaMercadoCompleta_2008, \n",
        "                  PesquisaMercadoCompleta_2008_2012,\n",
        "                  PesquisaMercadoCompleta_2013_2017,\n",
        "                  PesquisaMercadoCompleta_2018_2019])"
      ],
      "execution_count": 0,
      "outputs": []
    },
    {
      "metadata": {
        "id": "llyZgssaCbT_",
        "colab_type": "text"
      },
      "cell_type": "markdown",
      "source": [
        "Verificando totais\n",
        "\n",
        "---\n",
        "\n",
        "\n"
      ]
    },
    {
      "metadata": {
        "id": "Ox95UiwKqAm5",
        "colab_type": "code",
        "outputId": "8f2adc68-4e46-4f02-ff17-901298ac5e94",
        "colab": {
          "base_uri": "https://localhost:8080/",
          "height": 104
        }
      },
      "cell_type": "code",
      "source": [
        "print('PesquisaMercadoCompleta_2008: ', PesquisaMercadoCompleta_2008.shape )\n",
        "print('PesquisaMercadoCompleta_2008_2012: ', PesquisaMercadoCompleta_2008_2012.shape)\n",
        "print('PesquisaMercadoCompleta_2013_2017: ', PesquisaMercadoCompleta_2013_2017.shape)\n",
        "print('PesquisaMercadoCompleta_2018_2019: ', PesquisaMercadoCompleta_2018_2019.shape)\n",
        "print('Data: ', data.shape)"
      ],
      "execution_count": 0,
      "outputs": [
        {
          "output_type": "stream",
          "text": [
            "PesquisaMercadoCompleta_2008:  (854, 74)\n",
            "PesquisaMercadoCompleta_2008_2012:  (3665, 74)\n",
            "PesquisaMercadoCompleta_2013_2017:  (5121, 74)\n",
            "PesquisaMercadoCompleta_2018_2019:  (1102, 74)\n",
            "Data:  (10742, 74)\n"
          ],
          "name": "stdout"
        }
      ]
    },
    {
      "metadata": {
        "id": "CCHczD9TfCZZ",
        "colab_type": "text"
      },
      "cell_type": "markdown",
      "source": [
        "Exibindo informações da base\n",
        "\n",
        "---\n",
        "\n"
      ]
    },
    {
      "metadata": {
        "id": "EFMqpv0sqpWI",
        "colab_type": "code",
        "colab": {}
      },
      "cell_type": "code",
      "source": [
        "data.info()"
      ],
      "execution_count": 0,
      "outputs": []
    },
    {
      "metadata": {
        "id": "Omr5GRxBetoV",
        "colab_type": "text"
      },
      "cell_type": "markdown",
      "source": [
        "Selecionando apenas as variáveis que vamos trabalhar\n",
        "\n",
        "---\n",
        "\n"
      ]
    },
    {
      "metadata": {
        "id": "751iOW6Ma2V1",
        "colab_type": "code",
        "colab": {}
      },
      "cell_type": "code",
      "source": [
        "data = pd.DataFrame(data, columns = ['Endereço', \n",
        "                                     'Bairro',\n",
        "                                     'Distrito',\n",
        "                                     'Região', \n",
        "                                     'Cidade',\n",
        "                                     'UF', \n",
        "                                     'CEP', \n",
        "                                     'Zoneamento', \n",
        "                                     'Setor', \n",
        "                                     'Quadra', \n",
        "                                     'Nº de Elevadores',\n",
        "                                     'Dormitórios', \n",
        "                                     'Suítes', \n",
        "                                     'Banheiros', \n",
        "                                     'Nº Vagas', \n",
        "                                     'Área Privativa',\n",
        "                                     'Área Total',\n",
        "                                     'Nº Unidades por Pavimento', \n",
        "                                     'Nº de Pavimentos',\n",
        "                                     '(VMU)Preço de venda da unidade no lançamento',\n",
        "                                     '(VUV)Preço m2 privativo no lançamento',\n",
        "                                     '% Unidades Vendidas',\n",
        "                                     'Unidades Vendidas'])"
      ],
      "execution_count": 0,
      "outputs": []
    },
    {
      "metadata": {
        "id": "Nxk6BufsCorG",
        "colab_type": "text"
      },
      "cell_type": "markdown",
      "source": [
        "## Análises"
      ]
    },
    {
      "metadata": {
        "id": "lxXrwsgNekez",
        "colab_type": "text"
      },
      "cell_type": "markdown",
      "source": [
        "Matriz de correlações\n",
        "\n",
        "---\n",
        "\n"
      ]
    },
    {
      "metadata": {
        "id": "DKA6aqZkCm4u",
        "colab_type": "code",
        "outputId": "ae8ccf00-ef52-40ac-f1f3-58ac3cc57641",
        "colab": {
          "base_uri": "https://localhost:8080/",
          "height": 858
        }
      },
      "cell_type": "code",
      "source": [
        "data.corr()"
      ],
      "execution_count": 0,
      "outputs": [
        {
          "output_type": "execute_result",
          "data": {
            "text/html": [
              "<div>\n",
              "<style scoped>\n",
              "    .dataframe tbody tr th:only-of-type {\n",
              "        vertical-align: middle;\n",
              "    }\n",
              "\n",
              "    .dataframe tbody tr th {\n",
              "        vertical-align: top;\n",
              "    }\n",
              "\n",
              "    .dataframe thead th {\n",
              "        text-align: right;\n",
              "    }\n",
              "</style>\n",
              "<table border=\"1\" class=\"dataframe\">\n",
              "  <thead>\n",
              "    <tr style=\"text-align: right;\">\n",
              "      <th></th>\n",
              "      <th>Setor</th>\n",
              "      <th>Quadra</th>\n",
              "      <th>Nº de Elevadores</th>\n",
              "      <th>Dormitórios</th>\n",
              "      <th>Suítes</th>\n",
              "      <th>Banheiros</th>\n",
              "      <th>Nº Vagas</th>\n",
              "      <th>Área Privativa</th>\n",
              "      <th>Área Total</th>\n",
              "      <th>Nº Unidades por Pavimento</th>\n",
              "      <th>Nº de Pavimentos</th>\n",
              "      <th>(VMU)Preço de venda da unidade no lançamento</th>\n",
              "      <th>(VUV)Preço m2 privativo no lançamento</th>\n",
              "      <th>% Unidades Vendidas</th>\n",
              "      <th>Unidades Vendidas</th>\n",
              "    </tr>\n",
              "  </thead>\n",
              "  <tbody>\n",
              "    <tr>\n",
              "      <th>Setor</th>\n",
              "      <td>1.000000</td>\n",
              "      <td>0.077175</td>\n",
              "      <td>-0.055618</td>\n",
              "      <td>0.050832</td>\n",
              "      <td>-0.026291</td>\n",
              "      <td>-0.020780</td>\n",
              "      <td>-0.005041</td>\n",
              "      <td>-0.010342</td>\n",
              "      <td>-0.005218</td>\n",
              "      <td>-0.117356</td>\n",
              "      <td>-0.038292</td>\n",
              "      <td>0.005997</td>\n",
              "      <td>-0.085213</td>\n",
              "      <td>0.070362</td>\n",
              "      <td>0.086385</td>\n",
              "    </tr>\n",
              "    <tr>\n",
              "      <th>Quadra</th>\n",
              "      <td>0.077175</td>\n",
              "      <td>1.000000</td>\n",
              "      <td>-0.074227</td>\n",
              "      <td>0.032765</td>\n",
              "      <td>-0.010304</td>\n",
              "      <td>-0.004580</td>\n",
              "      <td>0.005421</td>\n",
              "      <td>-0.008561</td>\n",
              "      <td>-0.010071</td>\n",
              "      <td>-0.042485</td>\n",
              "      <td>-0.058619</td>\n",
              "      <td>-0.028482</td>\n",
              "      <td>-0.106298</td>\n",
              "      <td>0.047012</td>\n",
              "      <td>0.079346</td>\n",
              "    </tr>\n",
              "    <tr>\n",
              "      <th>Nº de Elevadores</th>\n",
              "      <td>-0.055618</td>\n",
              "      <td>-0.074227</td>\n",
              "      <td>1.000000</td>\n",
              "      <td>0.091041</td>\n",
              "      <td>0.145758</td>\n",
              "      <td>0.142400</td>\n",
              "      <td>0.124701</td>\n",
              "      <td>0.118134</td>\n",
              "      <td>0.113988</td>\n",
              "      <td>0.207524</td>\n",
              "      <td>0.490976</td>\n",
              "      <td>0.081955</td>\n",
              "      <td>0.110237</td>\n",
              "      <td>-0.004171</td>\n",
              "      <td>-0.026600</td>\n",
              "    </tr>\n",
              "    <tr>\n",
              "      <th>Dormitórios</th>\n",
              "      <td>0.050832</td>\n",
              "      <td>0.032765</td>\n",
              "      <td>0.091041</td>\n",
              "      <td>1.000000</td>\n",
              "      <td>0.711292</td>\n",
              "      <td>0.805471</td>\n",
              "      <td>0.644979</td>\n",
              "      <td>0.618910</td>\n",
              "      <td>0.616103</td>\n",
              "      <td>-0.525634</td>\n",
              "      <td>0.199732</td>\n",
              "      <td>0.363268</td>\n",
              "      <td>-0.132033</td>\n",
              "      <td>0.073433</td>\n",
              "      <td>-0.071836</td>\n",
              "    </tr>\n",
              "    <tr>\n",
              "      <th>Suítes</th>\n",
              "      <td>-0.026291</td>\n",
              "      <td>-0.010304</td>\n",
              "      <td>0.145758</td>\n",
              "      <td>0.711292</td>\n",
              "      <td>1.000000</td>\n",
              "      <td>0.920586</td>\n",
              "      <td>0.750092</td>\n",
              "      <td>0.731132</td>\n",
              "      <td>0.718874</td>\n",
              "      <td>-0.486733</td>\n",
              "      <td>0.249938</td>\n",
              "      <td>0.530769</td>\n",
              "      <td>0.194571</td>\n",
              "      <td>0.009840</td>\n",
              "      <td>-0.237063</td>\n",
              "    </tr>\n",
              "    <tr>\n",
              "      <th>Banheiros</th>\n",
              "      <td>-0.020780</td>\n",
              "      <td>-0.004580</td>\n",
              "      <td>0.142400</td>\n",
              "      <td>0.805471</td>\n",
              "      <td>0.920586</td>\n",
              "      <td>1.000000</td>\n",
              "      <td>0.729086</td>\n",
              "      <td>0.721349</td>\n",
              "      <td>0.710796</td>\n",
              "      <td>-0.504893</td>\n",
              "      <td>0.256540</td>\n",
              "      <td>0.510539</td>\n",
              "      <td>0.128984</td>\n",
              "      <td>0.012985</td>\n",
              "      <td>-0.221011</td>\n",
              "    </tr>\n",
              "    <tr>\n",
              "      <th>Nº Vagas</th>\n",
              "      <td>-0.005041</td>\n",
              "      <td>0.005421</td>\n",
              "      <td>0.124701</td>\n",
              "      <td>0.644979</td>\n",
              "      <td>0.750092</td>\n",
              "      <td>0.729086</td>\n",
              "      <td>1.000000</td>\n",
              "      <td>0.829113</td>\n",
              "      <td>0.822554</td>\n",
              "      <td>-0.504603</td>\n",
              "      <td>0.198444</td>\n",
              "      <td>0.627743</td>\n",
              "      <td>0.182089</td>\n",
              "      <td>0.045974</td>\n",
              "      <td>-0.228189</td>\n",
              "    </tr>\n",
              "    <tr>\n",
              "      <th>Área Privativa</th>\n",
              "      <td>-0.010342</td>\n",
              "      <td>-0.008561</td>\n",
              "      <td>0.118134</td>\n",
              "      <td>0.618910</td>\n",
              "      <td>0.731132</td>\n",
              "      <td>0.721349</td>\n",
              "      <td>0.829113</td>\n",
              "      <td>1.000000</td>\n",
              "      <td>0.975881</td>\n",
              "      <td>-0.448278</td>\n",
              "      <td>0.194215</td>\n",
              "      <td>0.801157</td>\n",
              "      <td>0.196459</td>\n",
              "      <td>0.022253</td>\n",
              "      <td>-0.255187</td>\n",
              "    </tr>\n",
              "    <tr>\n",
              "      <th>Área Total</th>\n",
              "      <td>-0.005218</td>\n",
              "      <td>-0.010071</td>\n",
              "      <td>0.113988</td>\n",
              "      <td>0.616103</td>\n",
              "      <td>0.718874</td>\n",
              "      <td>0.710796</td>\n",
              "      <td>0.822554</td>\n",
              "      <td>0.975881</td>\n",
              "      <td>1.000000</td>\n",
              "      <td>-0.450490</td>\n",
              "      <td>0.186809</td>\n",
              "      <td>0.758454</td>\n",
              "      <td>0.168590</td>\n",
              "      <td>0.037392</td>\n",
              "      <td>-0.245649</td>\n",
              "    </tr>\n",
              "    <tr>\n",
              "      <th>Nº Unidades por Pavimento</th>\n",
              "      <td>-0.117356</td>\n",
              "      <td>-0.042485</td>\n",
              "      <td>0.207524</td>\n",
              "      <td>-0.525634</td>\n",
              "      <td>-0.486733</td>\n",
              "      <td>-0.504893</td>\n",
              "      <td>-0.504603</td>\n",
              "      <td>-0.448278</td>\n",
              "      <td>-0.450490</td>\n",
              "      <td>1.000000</td>\n",
              "      <td>0.001145</td>\n",
              "      <td>-0.287873</td>\n",
              "      <td>0.057796</td>\n",
              "      <td>-0.082849</td>\n",
              "      <td>0.089123</td>\n",
              "    </tr>\n",
              "    <tr>\n",
              "      <th>Nº de Pavimentos</th>\n",
              "      <td>-0.038292</td>\n",
              "      <td>-0.058619</td>\n",
              "      <td>0.490976</td>\n",
              "      <td>0.199732</td>\n",
              "      <td>0.249938</td>\n",
              "      <td>0.256540</td>\n",
              "      <td>0.198444</td>\n",
              "      <td>0.194215</td>\n",
              "      <td>0.186809</td>\n",
              "      <td>0.001145</td>\n",
              "      <td>1.000000</td>\n",
              "      <td>0.137437</td>\n",
              "      <td>0.119796</td>\n",
              "      <td>0.015081</td>\n",
              "      <td>0.042498</td>\n",
              "    </tr>\n",
              "    <tr>\n",
              "      <th>(VMU)Preço de venda da unidade no lançamento</th>\n",
              "      <td>0.005997</td>\n",
              "      <td>-0.028482</td>\n",
              "      <td>0.081955</td>\n",
              "      <td>0.363268</td>\n",
              "      <td>0.530769</td>\n",
              "      <td>0.510539</td>\n",
              "      <td>0.627743</td>\n",
              "      <td>0.801157</td>\n",
              "      <td>0.758454</td>\n",
              "      <td>-0.287873</td>\n",
              "      <td>0.137437</td>\n",
              "      <td>1.000000</td>\n",
              "      <td>0.521937</td>\n",
              "      <td>-0.077905</td>\n",
              "      <td>-0.196777</td>\n",
              "    </tr>\n",
              "    <tr>\n",
              "      <th>(VUV)Preço m2 privativo no lançamento</th>\n",
              "      <td>-0.085213</td>\n",
              "      <td>-0.106298</td>\n",
              "      <td>0.110237</td>\n",
              "      <td>-0.132033</td>\n",
              "      <td>0.194571</td>\n",
              "      <td>0.128984</td>\n",
              "      <td>0.182089</td>\n",
              "      <td>0.196459</td>\n",
              "      <td>0.168590</td>\n",
              "      <td>0.057796</td>\n",
              "      <td>0.119796</td>\n",
              "      <td>0.521937</td>\n",
              "      <td>1.000000</td>\n",
              "      <td>-0.274841</td>\n",
              "      <td>-0.260439</td>\n",
              "    </tr>\n",
              "    <tr>\n",
              "      <th>% Unidades Vendidas</th>\n",
              "      <td>0.070362</td>\n",
              "      <td>0.047012</td>\n",
              "      <td>-0.004171</td>\n",
              "      <td>0.073433</td>\n",
              "      <td>0.009840</td>\n",
              "      <td>0.012985</td>\n",
              "      <td>0.045974</td>\n",
              "      <td>0.022253</td>\n",
              "      <td>0.037392</td>\n",
              "      <td>-0.082849</td>\n",
              "      <td>0.015081</td>\n",
              "      <td>-0.077905</td>\n",
              "      <td>-0.274841</td>\n",
              "      <td>1.000000</td>\n",
              "      <td>0.182155</td>\n",
              "    </tr>\n",
              "    <tr>\n",
              "      <th>Unidades Vendidas</th>\n",
              "      <td>0.086385</td>\n",
              "      <td>0.079346</td>\n",
              "      <td>-0.026600</td>\n",
              "      <td>-0.071836</td>\n",
              "      <td>-0.237063</td>\n",
              "      <td>-0.221011</td>\n",
              "      <td>-0.228189</td>\n",
              "      <td>-0.255187</td>\n",
              "      <td>-0.245649</td>\n",
              "      <td>0.089123</td>\n",
              "      <td>0.042498</td>\n",
              "      <td>-0.196777</td>\n",
              "      <td>-0.260439</td>\n",
              "      <td>0.182155</td>\n",
              "      <td>1.000000</td>\n",
              "    </tr>\n",
              "  </tbody>\n",
              "</table>\n",
              "</div>"
            ],
            "text/plain": [
              "                                                 Setor    Quadra  \\\n",
              "Setor                                         1.000000  0.077175   \n",
              "Quadra                                        0.077175  1.000000   \n",
              "Nº de Elevadores                             -0.055618 -0.074227   \n",
              "Dormitórios                                   0.050832  0.032765   \n",
              "Suítes                                       -0.026291 -0.010304   \n",
              "Banheiros                                    -0.020780 -0.004580   \n",
              "Nº Vagas                                     -0.005041  0.005421   \n",
              "Área Privativa                               -0.010342 -0.008561   \n",
              "Área Total                                   -0.005218 -0.010071   \n",
              "Nº Unidades por Pavimento                    -0.117356 -0.042485   \n",
              "Nº de Pavimentos                             -0.038292 -0.058619   \n",
              "(VMU)Preço de venda da unidade no lançamento  0.005997 -0.028482   \n",
              "(VUV)Preço m2 privativo no lançamento        -0.085213 -0.106298   \n",
              "% Unidades Vendidas                           0.070362  0.047012   \n",
              "Unidades Vendidas                             0.086385  0.079346   \n",
              "\n",
              "                                              Nº de Elevadores  Dormitórios  \\\n",
              "Setor                                                -0.055618     0.050832   \n",
              "Quadra                                               -0.074227     0.032765   \n",
              "Nº de Elevadores                                      1.000000     0.091041   \n",
              "Dormitórios                                           0.091041     1.000000   \n",
              "Suítes                                                0.145758     0.711292   \n",
              "Banheiros                                             0.142400     0.805471   \n",
              "Nº Vagas                                              0.124701     0.644979   \n",
              "Área Privativa                                        0.118134     0.618910   \n",
              "Área Total                                            0.113988     0.616103   \n",
              "Nº Unidades por Pavimento                             0.207524    -0.525634   \n",
              "Nº de Pavimentos                                      0.490976     0.199732   \n",
              "(VMU)Preço de venda da unidade no lançamento          0.081955     0.363268   \n",
              "(VUV)Preço m2 privativo no lançamento                 0.110237    -0.132033   \n",
              "% Unidades Vendidas                                  -0.004171     0.073433   \n",
              "Unidades Vendidas                                    -0.026600    -0.071836   \n",
              "\n",
              "                                                Suítes  Banheiros  Nº Vagas  \\\n",
              "Setor                                        -0.026291  -0.020780 -0.005041   \n",
              "Quadra                                       -0.010304  -0.004580  0.005421   \n",
              "Nº de Elevadores                              0.145758   0.142400  0.124701   \n",
              "Dormitórios                                   0.711292   0.805471  0.644979   \n",
              "Suítes                                        1.000000   0.920586  0.750092   \n",
              "Banheiros                                     0.920586   1.000000  0.729086   \n",
              "Nº Vagas                                      0.750092   0.729086  1.000000   \n",
              "Área Privativa                                0.731132   0.721349  0.829113   \n",
              "Área Total                                    0.718874   0.710796  0.822554   \n",
              "Nº Unidades por Pavimento                    -0.486733  -0.504893 -0.504603   \n",
              "Nº de Pavimentos                              0.249938   0.256540  0.198444   \n",
              "(VMU)Preço de venda da unidade no lançamento  0.530769   0.510539  0.627743   \n",
              "(VUV)Preço m2 privativo no lançamento         0.194571   0.128984  0.182089   \n",
              "% Unidades Vendidas                           0.009840   0.012985  0.045974   \n",
              "Unidades Vendidas                            -0.237063  -0.221011 -0.228189   \n",
              "\n",
              "                                              Área Privativa  Área Total  \\\n",
              "Setor                                              -0.010342   -0.005218   \n",
              "Quadra                                             -0.008561   -0.010071   \n",
              "Nº de Elevadores                                    0.118134    0.113988   \n",
              "Dormitórios                                         0.618910    0.616103   \n",
              "Suítes                                              0.731132    0.718874   \n",
              "Banheiros                                           0.721349    0.710796   \n",
              "Nº Vagas                                            0.829113    0.822554   \n",
              "Área Privativa                                      1.000000    0.975881   \n",
              "Área Total                                          0.975881    1.000000   \n",
              "Nº Unidades por Pavimento                          -0.448278   -0.450490   \n",
              "Nº de Pavimentos                                    0.194215    0.186809   \n",
              "(VMU)Preço de venda da unidade no lançamento        0.801157    0.758454   \n",
              "(VUV)Preço m2 privativo no lançamento               0.196459    0.168590   \n",
              "% Unidades Vendidas                                 0.022253    0.037392   \n",
              "Unidades Vendidas                                  -0.255187   -0.245649   \n",
              "\n",
              "                                              Nº Unidades por Pavimento  \\\n",
              "Setor                                                         -0.117356   \n",
              "Quadra                                                        -0.042485   \n",
              "Nº de Elevadores                                               0.207524   \n",
              "Dormitórios                                                   -0.525634   \n",
              "Suítes                                                        -0.486733   \n",
              "Banheiros                                                     -0.504893   \n",
              "Nº Vagas                                                      -0.504603   \n",
              "Área Privativa                                                -0.448278   \n",
              "Área Total                                                    -0.450490   \n",
              "Nº Unidades por Pavimento                                      1.000000   \n",
              "Nº de Pavimentos                                               0.001145   \n",
              "(VMU)Preço de venda da unidade no lançamento                  -0.287873   \n",
              "(VUV)Preço m2 privativo no lançamento                          0.057796   \n",
              "% Unidades Vendidas                                           -0.082849   \n",
              "Unidades Vendidas                                              0.089123   \n",
              "\n",
              "                                              Nº de Pavimentos  \\\n",
              "Setor                                                -0.038292   \n",
              "Quadra                                               -0.058619   \n",
              "Nº de Elevadores                                      0.490976   \n",
              "Dormitórios                                           0.199732   \n",
              "Suítes                                                0.249938   \n",
              "Banheiros                                             0.256540   \n",
              "Nº Vagas                                              0.198444   \n",
              "Área Privativa                                        0.194215   \n",
              "Área Total                                            0.186809   \n",
              "Nº Unidades por Pavimento                             0.001145   \n",
              "Nº de Pavimentos                                      1.000000   \n",
              "(VMU)Preço de venda da unidade no lançamento          0.137437   \n",
              "(VUV)Preço m2 privativo no lançamento                 0.119796   \n",
              "% Unidades Vendidas                                   0.015081   \n",
              "Unidades Vendidas                                     0.042498   \n",
              "\n",
              "                                              (VMU)Preço de venda da unidade no lançamento  \\\n",
              "Setor                                                                             0.005997   \n",
              "Quadra                                                                           -0.028482   \n",
              "Nº de Elevadores                                                                  0.081955   \n",
              "Dormitórios                                                                       0.363268   \n",
              "Suítes                                                                            0.530769   \n",
              "Banheiros                                                                         0.510539   \n",
              "Nº Vagas                                                                          0.627743   \n",
              "Área Privativa                                                                    0.801157   \n",
              "Área Total                                                                        0.758454   \n",
              "Nº Unidades por Pavimento                                                        -0.287873   \n",
              "Nº de Pavimentos                                                                  0.137437   \n",
              "(VMU)Preço de venda da unidade no lançamento                                      1.000000   \n",
              "(VUV)Preço m2 privativo no lançamento                                             0.521937   \n",
              "% Unidades Vendidas                                                              -0.077905   \n",
              "Unidades Vendidas                                                                -0.196777   \n",
              "\n",
              "                                              (VUV)Preço m2 privativo no lançamento  \\\n",
              "Setor                                                                     -0.085213   \n",
              "Quadra                                                                    -0.106298   \n",
              "Nº de Elevadores                                                           0.110237   \n",
              "Dormitórios                                                               -0.132033   \n",
              "Suítes                                                                     0.194571   \n",
              "Banheiros                                                                  0.128984   \n",
              "Nº Vagas                                                                   0.182089   \n",
              "Área Privativa                                                             0.196459   \n",
              "Área Total                                                                 0.168590   \n",
              "Nº Unidades por Pavimento                                                  0.057796   \n",
              "Nº de Pavimentos                                                           0.119796   \n",
              "(VMU)Preço de venda da unidade no lançamento                               0.521937   \n",
              "(VUV)Preço m2 privativo no lançamento                                      1.000000   \n",
              "% Unidades Vendidas                                                       -0.274841   \n",
              "Unidades Vendidas                                                         -0.260439   \n",
              "\n",
              "                                              % Unidades Vendidas  \\\n",
              "Setor                                                    0.070362   \n",
              "Quadra                                                   0.047012   \n",
              "Nº de Elevadores                                        -0.004171   \n",
              "Dormitórios                                              0.073433   \n",
              "Suítes                                                   0.009840   \n",
              "Banheiros                                                0.012985   \n",
              "Nº Vagas                                                 0.045974   \n",
              "Área Privativa                                           0.022253   \n",
              "Área Total                                               0.037392   \n",
              "Nº Unidades por Pavimento                               -0.082849   \n",
              "Nº de Pavimentos                                         0.015081   \n",
              "(VMU)Preço de venda da unidade no lançamento            -0.077905   \n",
              "(VUV)Preço m2 privativo no lançamento                   -0.274841   \n",
              "% Unidades Vendidas                                      1.000000   \n",
              "Unidades Vendidas                                        0.182155   \n",
              "\n",
              "                                              Unidades Vendidas  \n",
              "Setor                                                  0.086385  \n",
              "Quadra                                                 0.079346  \n",
              "Nº de Elevadores                                      -0.026600  \n",
              "Dormitórios                                           -0.071836  \n",
              "Suítes                                                -0.237063  \n",
              "Banheiros                                             -0.221011  \n",
              "Nº Vagas                                              -0.228189  \n",
              "Área Privativa                                        -0.255187  \n",
              "Área Total                                            -0.245649  \n",
              "Nº Unidades por Pavimento                              0.089123  \n",
              "Nº de Pavimentos                                       0.042498  \n",
              "(VMU)Preço de venda da unidade no lançamento          -0.196777  \n",
              "(VUV)Preço m2 privativo no lançamento                 -0.260439  \n",
              "% Unidades Vendidas                                    0.182155  \n",
              "Unidades Vendidas                                      1.000000  "
            ]
          },
          "metadata": {
            "tags": []
          },
          "execution_count": 268
        }
      ]
    },
    {
      "metadata": {
        "id": "Di1VWrz5ecmR",
        "colab_type": "text"
      },
      "cell_type": "markdown",
      "source": [
        "Matriz de correlações (gráfica)\n",
        "\n",
        "---\n",
        "\n"
      ]
    },
    {
      "metadata": {
        "id": "jHU90iWdCtDu",
        "colab_type": "code",
        "outputId": "46164970-0dd7-4f3c-e988-bbc44d44b5da",
        "colab": {
          "base_uri": "https://localhost:8080/",
          "height": 289
        }
      },
      "cell_type": "code",
      "source": [
        "plt.matshow(data.corr())"
      ],
      "execution_count": 0,
      "outputs": [
        {
          "output_type": "execute_result",
          "data": {
            "text/plain": [
              "<matplotlib.image.AxesImage at 0x7feef9d68c88>"
            ]
          },
          "metadata": {
            "tags": []
          },
          "execution_count": 269
        },
        {
          "output_type": "display_data",
          "data": {
            "image/png": "[encoded data removed]",
            "text/plain": [
              "<Figure size 288x288 with 1 Axes>"
            ]
          },
          "metadata": {
            "tags": []
          }
        }
      ]
    },
    {
      "metadata": {
        "id": "W6bB3cpgeUc7",
        "colab_type": "text"
      },
      "cell_type": "markdown",
      "source": [
        "Verificando as correlações com o preço de venda\n",
        "\n",
        "---\n",
        "\n"
      ]
    },
    {
      "metadata": {
        "id": "2TVubZb64ja3",
        "colab_type": "code",
        "outputId": "976361bb-dc1b-49f4-c7f6-251a577693f0",
        "colab": {
          "base_uri": "https://localhost:8080/",
          "height": 295
        }
      },
      "cell_type": "code",
      "source": [
        "data.corr()['(VMU)Preço de venda da unidade no lançamento'].sort_values(ascending=False)"
      ],
      "execution_count": 0,
      "outputs": [
        {
          "output_type": "execute_result",
          "data": {
            "text/plain": [
              "(VMU)Preço de venda da unidade no lançamento    1.000000\n",
              "Área Privativa                                  0.801157\n",
              "Área Total                                      0.758454\n",
              "Nº Vagas                                        0.627743\n",
              "Suítes                                          0.530769\n",
              "(VUV)Preço m2 privativo no lançamento           0.521937\n",
              "Banheiros                                       0.510539\n",
              "Dormitórios                                     0.363268\n",
              "Nº de Pavimentos                                0.137437\n",
              "Nº de Elevadores                                0.081955\n",
              "Setor                                           0.005997\n",
              "Quadra                                         -0.028482\n",
              "% Unidades Vendidas                            -0.077905\n",
              "Unidades Vendidas                              -0.196777\n",
              "Nº Unidades por Pavimento                      -0.287873\n",
              "Name: (VMU)Preço de venda da unidade no lançamento, dtype: float64"
            ]
          },
          "metadata": {
            "tags": []
          },
          "execution_count": 270
        }
      ]
    },
    {
      "metadata": {
        "id": "xcTcvFqfRBei",
        "colab_type": "text"
      },
      "cell_type": "markdown",
      "source": [
        "## Geolocalização\n",
        "\n",
        "---\n",
        "\n"
      ]
    },
    {
      "metadata": {
        "id": "uWDujfr9fMr4",
        "colab_type": "text"
      },
      "cell_type": "markdown",
      "source": [
        "Importando pacotes\n",
        "\n",
        "---\n",
        "\n"
      ]
    },
    {
      "metadata": {
        "id": "_X_pJ7-VRiu1",
        "colab_type": "code",
        "colab": {}
      },
      "cell_type": "code",
      "source": [
        "from geopy.geocoders import Bing\n",
        "from IPython.display import clear_output\n",
        "from pathlib import Path\n",
        "import timeit\n",
        "import numpy as np"
      ],
      "execution_count": 0,
      "outputs": []
    },
    {
      "metadata": {
        "id": "5tjZRq_obPqz",
        "colab_type": "text"
      },
      "cell_type": "markdown",
      "source": [
        "Criando dataframe de localização com o endereço completo e tirando os duplicados para não sobrecarregar a API de geocodificação\n",
        "\n",
        "---\n",
        "\n"
      ]
    },
    {
      "metadata": {
        "id": "jYk5ISF4SU9N",
        "colab_type": "code",
        "outputId": "898f4a34-b58c-4eca-b87b-9fad814851af",
        "colab": {
          "base_uri": "https://localhost:8080/",
          "height": 35
        }
      },
      "cell_type": "code",
      "source": [
        "data['end_original'] = data['Endereço'] + \", \" + data['Bairro'] + \", \" + data['UF'] + \", \" + data['Cidade'] + \", \" + data['CEP']\n",
        "\n",
        "data_local = pd.DataFrame()\n",
        "data_local['end_original'] = data['end_original']\n",
        "data_local.drop_duplicates(inplace=True)\n",
        "data_local.reset_index(inplace=True, drop=True)\n",
        "\n",
        "\n",
        "# data_local = data_local[0:10]\n",
        "\n",
        "data_local.shape"
      ],
      "execution_count": 0,
      "outputs": [
        {
          "output_type": "execute_result",
          "data": {
            "text/plain": [
              "(10, 1)"
            ]
          },
          "metadata": {
            "tags": []
          },
          "execution_count": 272
        }
      ]
    },
    {
      "metadata": {
        "id": "OSDdB5DcbX26",
        "colab_type": "text"
      },
      "cell_type": "markdown",
      "source": [
        "Definindo chave de conexão com o geodecodificador Bing e instanciando o objeto \n",
        "\n",
        "---\n",
        "\n"
      ]
    },
    {
      "metadata": {
        "id": "-R4SrJU2Rpfx",
        "colab_type": "code",
        "colab": {}
      },
      "cell_type": "code",
      "source": [
        "api_key = 'Am0Znblz-vMtAx-tV1rlNWBnJILE0IQTBK4fKjnJ_o2c0o4sEKpEdIyQCEdEjbtI'\n",
        "geocoder = Bing(api_key, timeout = 10)"
      ],
      "execution_count": 0,
      "outputs": []
    },
    {
      "metadata": {
        "id": "1uM_yho8bkgz",
        "colab_type": "text"
      },
      "cell_type": "markdown",
      "source": [
        "**Atenção... essa célula demora para executar completamente..**\n",
        "\n",
        "---\n",
        "\n",
        "Lógica para geodecodificar um endereço de cada vez. Isso é necessário para que a API de geodecodificação não dê timeout\n",
        "\n",
        "Depois de executada a API, salva em um arquivo externo e caso seja necessário buscar a informação novamente, busca-se os dados salvos em arquivo"
      ]
    },
    {
      "metadata": {
        "id": "NhD5QiHbdLMH",
        "colab_type": "code",
        "colab": {}
      },
      "cell_type": "code",
      "source": [
        "data_local['end_geocod'] = np.nan\n",
        "my_file = Path(\"data_local.csv\")\n",
        "tamanho = data_local.shape[0]\n",
        "\n",
        "if my_file.is_file():\n",
        "  data_local = pd.read_csv(my_file, index_col=False)\n",
        "else:\n",
        "  porcentagem = 0\n",
        "  start = timeit.default_timer()\n",
        "\n",
        "  for i in range(0, tamanho):\n",
        "    data_local['end_geocod'][i:i+1] = data_local['end_original'][i:i+1].apply(geocoder.geocode)\n",
        "    porcentagem = (i / tamanho) * 100\n",
        "    x = x + ((1 / tamanho) * 100)\n",
        "    if (x >= 1) or (i >= tamanho):\n",
        "      clear_output()\n",
        "      print(\"%2.1f \" % porcentagem, \"%\")\n",
        "      x=0\n",
        "\n",
        "  stop = timeit.default_timer()\n",
        "  print('Aproximadamente ', round((stop - start)/60), ' min de processamento...')\n",
        "  \n",
        "  data_local['Latitude'] = data_local['end_geocod'].apply(lambda x: x.latitude if x != None else None)\n",
        "  data_local['Longitude'] = data_local['end_geocod'].apply(lambda x: x.longitude if x != None else None)\n",
        "  \n",
        "  data_local.to_csv(my_file, index=False)"
      ],
      "execution_count": 0,
      "outputs": []
    },
    {
      "metadata": {
        "id": "8EUv01Ood-6S",
        "colab_type": "text"
      },
      "cell_type": "markdown",
      "source": [
        "Verificando a base com as coordenadas\n",
        "\n",
        "---\n",
        "\n"
      ]
    },
    {
      "metadata": {
        "id": "QVnSO80CPLnP",
        "colab_type": "code",
        "outputId": "6a31fa26-24f5-4182-8dfd-38754d5306d4",
        "colab": {
          "base_uri": "https://localhost:8080/",
          "height": 202
        }
      },
      "cell_type": "code",
      "source": [
        "data_local.head()"
      ],
      "execution_count": 0,
      "outputs": [
        {
          "output_type": "execute_result",
          "data": {
            "text/html": [
              "<div>\n",
              "<style scoped>\n",
              "    .dataframe tbody tr th:only-of-type {\n",
              "        vertical-align: middle;\n",
              "    }\n",
              "\n",
              "    .dataframe tbody tr th {\n",
              "        vertical-align: top;\n",
              "    }\n",
              "\n",
              "    .dataframe thead th {\n",
              "        text-align: right;\n",
              "    }\n",
              "</style>\n",
              "<table border=\"1\" class=\"dataframe\">\n",
              "  <thead>\n",
              "    <tr style=\"text-align: right;\">\n",
              "      <th></th>\n",
              "      <th>end_original</th>\n",
              "      <th>end_geocod</th>\n",
              "      <th>Latitude</th>\n",
              "      <th>Longitude</th>\n",
              "    </tr>\n",
              "  </thead>\n",
              "  <tbody>\n",
              "    <tr>\n",
              "      <th>0</th>\n",
              "      <td>R SERIDO, 106, JARDIM EUROPA, SP, SAO PAULO, 0...</td>\n",
              "      <td>Rua Seridó, 106, Sao Paulo, SP 01455-040, Brazil</td>\n",
              "      <td>-23.58317</td>\n",
              "      <td>-46.68986</td>\n",
              "    </tr>\n",
              "    <tr>\n",
              "      <th>1</th>\n",
              "      <td>R CAMBURIU, 651, VILA IPOJUCA, SP, SAO PAULO, ...</td>\n",
              "      <td>Rua Camburiú, 651, Sao Paulo, SP 05058-020, Br...</td>\n",
              "      <td>-23.53726</td>\n",
              "      <td>-46.70889</td>\n",
              "    </tr>\n",
              "    <tr>\n",
              "      <th>2</th>\n",
              "      <td>AV PRESIDENTE JUSCELINO KUBITSCHEK, 360, ITAIM...</td>\n",
              "      <td>Avenida Presidente Juscelino Kubitschek, 360, ...</td>\n",
              "      <td>-23.58591</td>\n",
              "      <td>-46.67329</td>\n",
              "    </tr>\n",
              "    <tr>\n",
              "      <th>3</th>\n",
              "      <td>AV CASA VERDE, 535, JARDIM SAO BENTO, SP, SAO ...</td>\n",
              "      <td>Avenida Casa Verde, 535, Sao Paulo, SP 02519-0...</td>\n",
              "      <td>-23.50028</td>\n",
              "      <td>-46.64817</td>\n",
              "    </tr>\n",
              "    <tr>\n",
              "      <th>4</th>\n",
              "      <td>R TEMPLARIOS, 333, CHACARA MAFALDA, SP, SAO PA...</td>\n",
              "      <td>Rua Templários, Sao Paulo, SP 03357-000, Brazil</td>\n",
              "      <td>-23.56522</td>\n",
              "      <td>-46.55726</td>\n",
              "    </tr>\n",
              "  </tbody>\n",
              "</table>\n",
              "</div>"
            ],
            "text/plain": [
              "                                        end_original  \\\n",
              "0  R SERIDO, 106, JARDIM EUROPA, SP, SAO PAULO, 0...   \n",
              "1  R CAMBURIU, 651, VILA IPOJUCA, SP, SAO PAULO, ...   \n",
              "2  AV PRESIDENTE JUSCELINO KUBITSCHEK, 360, ITAIM...   \n",
              "3  AV CASA VERDE, 535, JARDIM SAO BENTO, SP, SAO ...   \n",
              "4  R TEMPLARIOS, 333, CHACARA MAFALDA, SP, SAO PA...   \n",
              "\n",
              "                                          end_geocod  Latitude  Longitude  \n",
              "0   Rua Seridó, 106, Sao Paulo, SP 01455-040, Brazil -23.58317  -46.68986  \n",
              "1  Rua Camburiú, 651, Sao Paulo, SP 05058-020, Br... -23.53726  -46.70889  \n",
              "2  Avenida Presidente Juscelino Kubitschek, 360, ... -23.58591  -46.67329  \n",
              "3  Avenida Casa Verde, 535, Sao Paulo, SP 02519-0... -23.50028  -46.64817  \n",
              "4    Rua Templários, Sao Paulo, SP 03357-000, Brazil -23.56522  -46.55726  "
            ]
          },
          "metadata": {
            "tags": []
          },
          "execution_count": 275
        }
      ]
    },
    {
      "metadata": {
        "id": "z5WPz410eEGy",
        "colab_type": "text"
      },
      "cell_type": "markdown",
      "source": [
        "Juntando a base original com as coordenadas encontradas\n",
        "\n",
        "---\n",
        "\n"
      ]
    },
    {
      "metadata": {
        "id": "8JKsBQHKPM03",
        "colab_type": "code",
        "colab": {}
      },
      "cell_type": "code",
      "source": [
        "data = pd.merge(data, data_local, how='left', on='end_original')"
      ],
      "execution_count": 0,
      "outputs": []
    },
    {
      "metadata": {
        "id": "UtW1eaYvV6-u",
        "colab_type": "code",
        "outputId": "40fd85a0-4e67-4d64-e0b5-133b19f1b2e5",
        "colab": {
          "base_uri": "https://localhost:8080/",
          "height": 667
        }
      },
      "cell_type": "code",
      "source": [
        "data.head()"
      ],
      "execution_count": 0,
      "outputs": [
        {
          "output_type": "execute_result",
          "data": {
            "text/html": [
              "<div>\n",
              "<style scoped>\n",
              "    .dataframe tbody tr th:only-of-type {\n",
              "        vertical-align: middle;\n",
              "    }\n",
              "\n",
              "    .dataframe tbody tr th {\n",
              "        vertical-align: top;\n",
              "    }\n",
              "\n",
              "    .dataframe thead th {\n",
              "        text-align: right;\n",
              "    }\n",
              "</style>\n",
              "<table border=\"1\" class=\"dataframe\">\n",
              "  <thead>\n",
              "    <tr style=\"text-align: right;\">\n",
              "      <th></th>\n",
              "      <th>Endereço</th>\n",
              "      <th>Bairro</th>\n",
              "      <th>Distrito</th>\n",
              "      <th>Região</th>\n",
              "      <th>Cidade</th>\n",
              "      <th>UF</th>\n",
              "      <th>CEP</th>\n",
              "      <th>Zoneamento</th>\n",
              "      <th>Setor</th>\n",
              "      <th>Quadra</th>\n",
              "      <th>...</th>\n",
              "      <th>Nº Unidades por Pavimento</th>\n",
              "      <th>Nº de Pavimentos</th>\n",
              "      <th>(VMU)Preço de venda da unidade no lançamento</th>\n",
              "      <th>(VUV)Preço m2 privativo no lançamento</th>\n",
              "      <th>% Unidades Vendidas</th>\n",
              "      <th>Unidades Vendidas</th>\n",
              "      <th>end_original</th>\n",
              "      <th>end_geocod</th>\n",
              "      <th>Latitude</th>\n",
              "      <th>Longitude</th>\n",
              "    </tr>\n",
              "  </thead>\n",
              "  <tbody>\n",
              "    <tr>\n",
              "      <th>0</th>\n",
              "      <td>R SERIDO, 106</td>\n",
              "      <td>JARDIM EUROPA</td>\n",
              "      <td>PINHEIROS</td>\n",
              "      <td>SUL</td>\n",
              "      <td>SAO PAULO</td>\n",
              "      <td>SP</td>\n",
              "      <td>01455-040</td>\n",
              "      <td>ZM 2</td>\n",
              "      <td>83</td>\n",
              "      <td>125</td>\n",
              "      <td>...</td>\n",
              "      <td>2</td>\n",
              "      <td>31</td>\n",
              "      <td>6110900.0</td>\n",
              "      <td>12175.29</td>\n",
              "      <td>100.0</td>\n",
              "      <td>31</td>\n",
              "      <td>R SERIDO, 106, JARDIM EUROPA, SP, SAO PAULO, 0...</td>\n",
              "      <td>Rua Seridó, 106, Sao Paulo, SP 01455-040, Brazil</td>\n",
              "      <td>-23.58317</td>\n",
              "      <td>-46.68986</td>\n",
              "    </tr>\n",
              "    <tr>\n",
              "      <th>1</th>\n",
              "      <td>R SERIDO, 106</td>\n",
              "      <td>JARDIM EUROPA</td>\n",
              "      <td>PINHEIROS</td>\n",
              "      <td>SUL</td>\n",
              "      <td>SAO PAULO</td>\n",
              "      <td>SP</td>\n",
              "      <td>01455-040</td>\n",
              "      <td>ZM 2</td>\n",
              "      <td>83</td>\n",
              "      <td>125</td>\n",
              "      <td>...</td>\n",
              "      <td>2</td>\n",
              "      <td>31</td>\n",
              "      <td>4891200.0</td>\n",
              "      <td>12071.08</td>\n",
              "      <td>100.0</td>\n",
              "      <td>31</td>\n",
              "      <td>R SERIDO, 106, JARDIM EUROPA, SP, SAO PAULO, 0...</td>\n",
              "      <td>Rua Seridó, 106, Sao Paulo, SP 01455-040, Brazil</td>\n",
              "      <td>-23.58317</td>\n",
              "      <td>-46.68986</td>\n",
              "    </tr>\n",
              "    <tr>\n",
              "      <th>2</th>\n",
              "      <td>R SERIDO, 106</td>\n",
              "      <td>JARDIM EUROPA</td>\n",
              "      <td>PINHEIROS</td>\n",
              "      <td>SUL</td>\n",
              "      <td>SAO PAULO</td>\n",
              "      <td>SP</td>\n",
              "      <td>01455-040</td>\n",
              "      <td>ZM 2</td>\n",
              "      <td>83</td>\n",
              "      <td>125</td>\n",
              "      <td>...</td>\n",
              "      <td>2</td>\n",
              "      <td>31</td>\n",
              "      <td>10973100.0</td>\n",
              "      <td>15292.88</td>\n",
              "      <td>100.0</td>\n",
              "      <td>1</td>\n",
              "      <td>R SERIDO, 106, JARDIM EUROPA, SP, SAO PAULO, 0...</td>\n",
              "      <td>Rua Seridó, 106, Sao Paulo, SP 01455-040, Brazil</td>\n",
              "      <td>-23.58317</td>\n",
              "      <td>-46.68986</td>\n",
              "    </tr>\n",
              "    <tr>\n",
              "      <th>3</th>\n",
              "      <td>R SERIDO, 106</td>\n",
              "      <td>JARDIM EUROPA</td>\n",
              "      <td>PINHEIROS</td>\n",
              "      <td>SUL</td>\n",
              "      <td>SAO PAULO</td>\n",
              "      <td>SP</td>\n",
              "      <td>01455-040</td>\n",
              "      <td>ZM 2</td>\n",
              "      <td>83</td>\n",
              "      <td>125</td>\n",
              "      <td>...</td>\n",
              "      <td>2</td>\n",
              "      <td>31</td>\n",
              "      <td>13773700.0</td>\n",
              "      <td>14795.00</td>\n",
              "      <td>100.0</td>\n",
              "      <td>1</td>\n",
              "      <td>R SERIDO, 106, JARDIM EUROPA, SP, SAO PAULO, 0...</td>\n",
              "      <td>Rua Seridó, 106, Sao Paulo, SP 01455-040, Brazil</td>\n",
              "      <td>-23.58317</td>\n",
              "      <td>-46.68986</td>\n",
              "    </tr>\n",
              "    <tr>\n",
              "      <th>4</th>\n",
              "      <td>R SERIDO, 106</td>\n",
              "      <td>JARDIM EUROPA</td>\n",
              "      <td>PINHEIROS</td>\n",
              "      <td>SUL</td>\n",
              "      <td>SAO PAULO</td>\n",
              "      <td>SP</td>\n",
              "      <td>01455-040</td>\n",
              "      <td>E4       - R301</td>\n",
              "      <td>83</td>\n",
              "      <td>125</td>\n",
              "      <td>...</td>\n",
              "      <td>2</td>\n",
              "      <td>31</td>\n",
              "      <td>5020400.0</td>\n",
              "      <td>12389.93</td>\n",
              "      <td>100.0</td>\n",
              "      <td>31</td>\n",
              "      <td>R SERIDO, 106, JARDIM EUROPA, SP, SAO PAULO, 0...</td>\n",
              "      <td>Rua Seridó, 106, Sao Paulo, SP 01455-040, Brazil</td>\n",
              "      <td>-23.58317</td>\n",
              "      <td>-46.68986</td>\n",
              "    </tr>\n",
              "  </tbody>\n",
              "</table>\n",
              "<p>5 rows × 27 columns</p>\n",
              "</div>"
            ],
            "text/plain": [
              "        Endereço         Bairro   Distrito Região     Cidade  UF        CEP  \\\n",
              "0  R SERIDO, 106  JARDIM EUROPA  PINHEIROS    SUL  SAO PAULO  SP  01455-040   \n",
              "1  R SERIDO, 106  JARDIM EUROPA  PINHEIROS    SUL  SAO PAULO  SP  01455-040   \n",
              "2  R SERIDO, 106  JARDIM EUROPA  PINHEIROS    SUL  SAO PAULO  SP  01455-040   \n",
              "3  R SERIDO, 106  JARDIM EUROPA  PINHEIROS    SUL  SAO PAULO  SP  01455-040   \n",
              "4  R SERIDO, 106  JARDIM EUROPA  PINHEIROS    SUL  SAO PAULO  SP  01455-040   \n",
              "\n",
              "        Zoneamento  Setor  Quadra    ...      Nº Unidades por Pavimento  \\\n",
              "0             ZM 2     83     125    ...                              2   \n",
              "1             ZM 2     83     125    ...                              2   \n",
              "2             ZM 2     83     125    ...                              2   \n",
              "3             ZM 2     83     125    ...                              2   \n",
              "4  E4       - R301     83     125    ...                              2   \n",
              "\n",
              "   Nº de Pavimentos  (VMU)Preço de venda da unidade no lançamento  \\\n",
              "0                31                                     6110900.0   \n",
              "1                31                                     4891200.0   \n",
              "2                31                                    10973100.0   \n",
              "3                31                                    13773700.0   \n",
              "4                31                                     5020400.0   \n",
              "\n",
              "   (VUV)Preço m2 privativo no lançamento  % Unidades Vendidas  \\\n",
              "0                               12175.29                100.0   \n",
              "1                               12071.08                100.0   \n",
              "2                               15292.88                100.0   \n",
              "3                               14795.00                100.0   \n",
              "4                               12389.93                100.0   \n",
              "\n",
              "   Unidades Vendidas                                       end_original  \\\n",
              "0                 31  R SERIDO, 106, JARDIM EUROPA, SP, SAO PAULO, 0...   \n",
              "1                 31  R SERIDO, 106, JARDIM EUROPA, SP, SAO PAULO, 0...   \n",
              "2                  1  R SERIDO, 106, JARDIM EUROPA, SP, SAO PAULO, 0...   \n",
              "3                  1  R SERIDO, 106, JARDIM EUROPA, SP, SAO PAULO, 0...   \n",
              "4                 31  R SERIDO, 106, JARDIM EUROPA, SP, SAO PAULO, 0...   \n",
              "\n",
              "                                         end_geocod  Latitude  Longitude  \n",
              "0  Rua Seridó, 106, Sao Paulo, SP 01455-040, Brazil -23.58317  -46.68986  \n",
              "1  Rua Seridó, 106, Sao Paulo, SP 01455-040, Brazil -23.58317  -46.68986  \n",
              "2  Rua Seridó, 106, Sao Paulo, SP 01455-040, Brazil -23.58317  -46.68986  \n",
              "3  Rua Seridó, 106, Sao Paulo, SP 01455-040, Brazil -23.58317  -46.68986  \n",
              "4  Rua Seridó, 106, Sao Paulo, SP 01455-040, Brazil -23.58317  -46.68986  \n",
              "\n",
              "[5 rows x 27 columns]"
            ]
          },
          "metadata": {
            "tags": []
          },
          "execution_count": 277
        }
      ]
    },
    {
      "metadata": {
        "id": "C3Th-9Indr9j",
        "colab_type": "code",
        "colab": {}
      },
      "cell_type": "code",
      "source": [
        ""
      ],
      "execution_count": 0,
      "outputs": []
    }
  ]
}